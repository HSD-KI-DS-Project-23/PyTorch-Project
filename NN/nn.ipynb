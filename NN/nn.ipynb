{
 "cells": [
  {
   "attachments": {},
   "cell_type": "markdown",
   "metadata": {},
   "source": [
    "#  1. Libaries"
   ]
  },
  {
   "cell_type": "code",
   "execution_count": 25,
   "metadata": {},
   "outputs": [
    {
     "name": "stdout",
     "output_type": "stream",
     "text": [
      "True\n",
      "2.0.1+cu118\n"
     ]
    }
   ],
   "source": [
    "import os\n",
    "import torch\n",
    "import torch.nn as nn\n",
    "import torch.optim as optim\n",
    "import torchvision\n",
    "\n",
    "import numpy as np\n",
    "\n",
    "import pandas as pd\n",
    "\n",
    "import matplotlib.pyplot as plt\n",
    "\n",
    "# Device configuration\n",
    "device = torch.device('cuda' if torch.cuda.is_available() else 'cpu')\n",
    "print(torch.cuda.is_available())\n",
    "\n",
    "# torch version\n",
    "print(torch.__version__)"
   ]
  },
  {
   "attachments": {},
   "cell_type": "markdown",
   "metadata": {},
   "source": [
    "# 2. Hyperparameters"
   ]
  },
  {
   "cell_type": "code",
   "execution_count": 26,
   "metadata": {},
   "outputs": [],
   "source": [
    "input_size = 28*28\n",
    "hidden_dim = 200\n",
    "output_dim = 10\n",
    "\n",
    "\n",
    "epochs=100\n",
    "batch_size=32\n",
    "lr=0.0002\n"
   ]
  },
  {
   "attachments": {},
   "cell_type": "markdown",
   "metadata": {},
   "source": [
    "# 3. Get Data"
   ]
  },
  {
   "cell_type": "code",
   "execution_count": 27,
   "metadata": {},
   "outputs": [],
   "source": [
    "transform = torchvision.transforms.Compose(\n",
    "    [\n",
    "        torchvision.transforms.ToTensor(),  # create PyTorch Tensor | shape: (channels, height, width)\n",
    "        torchvision.transforms.Normalize(\n",
    "            [0.5], [0.5]\n",
    "        ),  # convert values to [-1, 1]\n",
    "    ]\n",
    ")\n",
    "\n",
    "# create folder structure if it does not exist\n",
    "folder_path = \"data\"\n",
    "if not os.path.exists(folder_path):\n",
    "    os.makedirs(folder_path)\n",
    "\n",
    "# create datasets\n",
    "dataset_train = torchvision.datasets.MNIST(\n",
    "    root=folder_path, train=True, transform=transform, download=True\n",
    ")\n",
    "dataset_test = torchvision.datasets.MNIST(\n",
    "    root=folder_path, train=False, transform=transform, download=False\n",
    ")\n",
    "\n",
    "# create dataloaders\n",
    "loader_train = torch.utils.data.DataLoader(\n",
    "    dataset=dataset_train, batch_size=batch_size, shuffle=True\n",
    ")\n",
    "loader_test = torch.utils.data.DataLoader(\n",
    "    dataset=dataset_test, batch_size=batch_size, shuffle=False\n",
    ")"
   ]
  },
  {
   "attachments": {},
   "cell_type": "markdown",
   "metadata": {},
   "source": [
    "# 3. Neural Network"
   ]
  },
  {
   "cell_type": "code",
   "execution_count": 28,
   "metadata": {},
   "outputs": [],
   "source": [
    "# Model with subclass nn.Module\n",
    "\n",
    "class MNIST_Decoder_Classification(nn.Module):\n",
    "    def __init__(self,input_size, hidden_dim, output_dim):\n",
    "        super(MNIST_Decoder_Classification,self).__init__()\n",
    "        \n",
    "        #Layer In,Hidden,Hidden,Out\n",
    "        self.model = nn.Sequential(\n",
    "            nn.Linear(input_size,hidden_dim),\n",
    "            nn.LeakyReLU(0.2),\n",
    "            nn.Linear(hidden_dim,hidden_dim),\n",
    "            nn.LeakyReLU(0.2),\n",
    "            nn.Linear(hidden_dim,hidden_dim),\n",
    "            nn.LeakyReLU(0.2),\n",
    "            nn.Linear(hidden_dim,output_dim),\n",
    "            nn.Softmax() #Better for multilabel classification\n",
    "        ).to(device)\n",
    "\n",
    "    def forward(self,x):\n",
    "        return self.model(x) #input through layers from model"
   ]
  },
  {
   "attachments": {},
   "cell_type": "markdown",
   "metadata": {},
   "source": [
    "## 3.1 Loss Function"
   ]
  },
  {
   "cell_type": "code",
   "execution_count": 29,
   "metadata": {},
   "outputs": [],
   "source": [
    "LossFunction = nn.BCELoss() #BCE for Classification - softmax already in NN - no BCEloss with logits"
   ]
  },
  {
   "attachments": {},
   "cell_type": "markdown",
   "metadata": {},
   "source": [
    "## 3.2 Optimizer"
   ]
  },
  {
   "cell_type": "code",
   "execution_count": 30,
   "metadata": {},
   "outputs": [],
   "source": [
    "model1= MNIST_Decoder_Classification(input_size, hidden_dim, output_dim)\n",
    "NN_optimizer = optim.Adam(model1.parameters(),lr = lr)"
   ]
  },
  {
   "attachments": {},
   "cell_type": "markdown",
   "metadata": {},
   "source": [
    "# 4. Train"
   ]
  },
  {
   "cell_type": "code",
   "execution_count": 31,
   "metadata": {},
   "outputs": [],
   "source": [
    "def Train(Image,label):\n",
    "    Train.zero_grad()\n",
    "\n",
    "    MNIST_real, label_real = Image.view(-1,28*28), label\n",
    "    MNIST_real, label_real = MNIST_real.to(device), label_real.to(device)\n",
    "\n",
    "    NN_output = model1(MNIST_real)\n",
    "    NN_loss = LossFunction(NN_output, label_real)\n",
    "\n",
    "    NN_loss.backward() #backpropogation\n",
    "   \n",
    "    NN_optimizer.step() #gradient descent -> min\n",
    "\n"
   ]
  },
  {
   "attachments": {},
   "cell_type": "markdown",
   "metadata": {},
   "source": [
    "## Train Loop"
   ]
  },
  {
   "cell_type": "code",
   "execution_count": null,
   "metadata": {},
   "outputs": [],
   "source": [
    "for epoch in range(1,epochs+1):\n",
    "    Losses = []\n",
    "    for batch_idx, (x,_) in enumerate(loader_train)\n",
    "        Losses.append(Train(Image=))\n",
    "\n",
    "    print('Loss: loss_d: %.3f#')\n",
    "\n",
    "    with torch.no_grad():\n",
    "        "
   ]
  }
 ],
 "metadata": {
  "kernelspec": {
   "display_name": "Python 3",
   "language": "python",
   "name": "python3"
  },
  "language_info": {
   "codemirror_mode": {
    "name": "ipython",
    "version": 3
   },
   "file_extension": ".py",
   "mimetype": "text/x-python",
   "name": "python",
   "nbconvert_exporter": "python",
   "pygments_lexer": "ipython3",
   "version": "3.11.3"
  },
  "orig_nbformat": 4
 },
 "nbformat": 4,
 "nbformat_minor": 2
}
