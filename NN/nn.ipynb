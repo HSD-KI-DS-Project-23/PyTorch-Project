{
 "cells": [
  {
   "attachments": {},
   "cell_type": "markdown",
   "metadata": {},
   "source": [
    "# Libaries"
   ]
  },
  {
   "cell_type": "code",
   "execution_count": 26,
   "metadata": {},
   "outputs": [
    {
     "name": "stdout",
     "output_type": "stream",
     "text": [
      "True\n",
      "2.0.1+cu118\n"
     ]
    }
   ],
   "source": [
    "import torch\n",
    "import torch.nn as nn\n",
    "import torch.optim as optim\n",
    "import torchvision\n",
    "\n",
    "import numpy as np\n",
    "\n",
    "import pandas as pd\n",
    "\n",
    "import matplotlib.pyplot as plt\n",
    "\n",
    "# Device configuration\n",
    "device = torch.device('cuda' if torch.cuda.is_available() else 'cpu')\n",
    "print(torch.cuda.is_available())\n",
    "\n",
    "# torch version\n",
    "print(torch.__version__)"
   ]
  },
  {
   "attachments": {},
   "cell_type": "markdown",
   "metadata": {},
   "source": [
    "# Hyperparameters"
   ]
  },
  {
   "cell_type": "code",
   "execution_count": 27,
   "metadata": {},
   "outputs": [],
   "source": [
    "input_size = 9\n",
    "hidden_dim = 200\n",
    "output_dim = 10\n",
    "\n",
    "lr=0.0002\n"
   ]
  },
  {
   "attachments": {},
   "cell_type": "markdown",
   "metadata": {},
   "source": [
    "# Neural Network"
   ]
  },
  {
   "cell_type": "code",
   "execution_count": 28,
   "metadata": {},
   "outputs": [],
   "source": [
    "# Model with subclass nn.Module\n",
    "\n",
    "class MNIST_Decoder_Classification(nn.Module):\n",
    "    def __init__(self,input_size, hidden_dim, output_dim):\n",
    "        super().__init__()\n",
    "        \n",
    "        #Layer In,Hidden,Hidden,Out\n",
    "        self.model = nn.Sequential(\n",
    "        nn.linear(input_size,hidden_dim),\n",
    "        nn.LeakyRelu(0.2),\n",
    "        nn.linear(hidden_dim,hidden_dim),\n",
    "        nn.LeakyRelu(0.2),\n",
    "        nn.linear(hidden_dim,hidden_dim),\n",
    "        nn.LeakyRelu(0.2),\n",
    "        nn.linear(hidden_dim,output_dim),\n",
    "        nn.softmax()\n",
    "        ).to(device)\n",
    "\n",
    "    def forward(self,x):\n",
    "        return self.model(x) #input through layers from model"
   ]
  },
  {
   "attachments": {},
   "cell_type": "markdown",
   "metadata": {},
   "source": [
    "## Loss Function"
   ]
  },
  {
   "cell_type": "code",
   "execution_count": 29,
   "metadata": {},
   "outputs": [],
   "source": [
    "LossFunction = nn.BCELoss() #BCE for Classification - softmax already in NN - no BCEloss with logits"
   ]
  },
  {
   "attachments": {},
   "cell_type": "markdown",
   "metadata": {},
   "source": [
    "## Optimizer"
   ]
  },
  {
   "cell_type": "code",
   "execution_count": 30,
   "metadata": {},
   "outputs": [
    {
     "ename": "TypeError",
     "evalue": "Module.parameters() missing 1 required positional argument: 'self'",
     "output_type": "error",
     "traceback": [
      "\u001b[1;31m---------------------------------------------------------------------------\u001b[0m",
      "\u001b[1;31mTypeError\u001b[0m                                 Traceback (most recent call last)",
      "Cell \u001b[1;32mIn[30], line 1\u001b[0m\n\u001b[1;32m----> 1\u001b[0m NN_optimizer \u001b[39m=\u001b[39m optim\u001b[39m.\u001b[39mAdam(MNIST_Decoder_Classification\u001b[39m.\u001b[39;49mparameters(),lr \u001b[39m=\u001b[39m lr)\n",
      "\u001b[1;31mTypeError\u001b[0m: Module.parameters() missing 1 required positional argument: 'self'"
     ]
    }
   ],
   "source": [
    "NN_optimizer = optim.Adam(MNIST_Decoder_Classification.parameters(),lr = lr)"
   ]
  }
 ],
 "metadata": {
  "kernelspec": {
   "display_name": "Python 3",
   "language": "python",
   "name": "python3"
  },
  "language_info": {
   "codemirror_mode": {
    "name": "ipython",
    "version": 3
   },
   "file_extension": ".py",
   "mimetype": "text/x-python",
   "name": "python",
   "nbconvert_exporter": "python",
   "pygments_lexer": "ipython3",
   "version": "3.11.3"
  },
  "orig_nbformat": 4
 },
 "nbformat": 4,
 "nbformat_minor": 2
}
