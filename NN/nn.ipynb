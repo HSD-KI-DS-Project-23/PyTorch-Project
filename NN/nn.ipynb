{
 "cells": [
  {
   "attachments": {},
   "cell_type": "markdown",
   "metadata": {},
   "source": [
    "# Libaries"
   ]
  },
  {
   "cell_type": "code",
   "execution_count": 23,
   "metadata": {},
   "outputs": [
    {
     "name": "stdout",
     "output_type": "stream",
     "text": [
      "True\n",
      "2.0.1+cu118\n"
     ]
    }
   ],
   "source": [
    "import torch\n",
    "import torch.nn as nn\n",
    "import torchvision\n",
    "\n",
    "import numpy as np\n",
    "\n",
    "import pandas as pd\n",
    "\n",
    "import matplotlib.pyplot as plt\n",
    "\n",
    "# Device configuration\n",
    "device = torch.device('cuda' if torch.cuda.is_available() else 'cpu')\n",
    "print(torch.cuda.is_available())\n",
    "\n",
    "# torch version\n",
    "print(torch.__version__)"
   ]
  },
  {
   "attachments": {},
   "cell_type": "markdown",
   "metadata": {},
   "source": [
    "# Hyperparameters"
   ]
  },
  {
   "cell_type": "code",
   "execution_count": 24,
   "metadata": {},
   "outputs": [],
   "source": [
    "input_size = 9\n",
    "hidden_dim = 200\n",
    "output_dim = 10\n"
   ]
  },
  {
   "attachments": {},
   "cell_type": "markdown",
   "metadata": {},
   "source": [
    "# Neural Network"
   ]
  },
  {
   "cell_type": "code",
   "execution_count": 25,
   "metadata": {},
   "outputs": [],
   "source": [
    "# Model with subclass nn.Module\n",
    "\n",
    "class MNIST_Decoder_Classification(nn.Module):\n",
    "    def __init__(self,input_size, hidden_dim, output_dim):\n",
    "        super().__init__()\n",
    "        \n",
    "        #Layer In,Hidden,Hidden,Out\n",
    "        self.model = nn.Sequential(\n",
    "        nn.linear(input_size,hidden_dim),\n",
    "        nn.LeakyRelu(0.2),\n",
    "        nn.linear(hidden_dim,hidden_dim),\n",
    "        nn.LeakyRelu(0.2),\n",
    "        nn.linear(hidden_dim,hidden_dim),\n",
    "        nn.LeakyRelu(0.2),\n",
    "        nn.linear(hidden_dim,output_dim),\n",
    "        nn.Sigmoid()\n",
    "\n",
    "\n",
    "        )"
   ]
  }
 ],
 "metadata": {
  "kernelspec": {
   "display_name": "Python 3",
   "language": "python",
   "name": "python3"
  },
  "language_info": {
   "codemirror_mode": {
    "name": "ipython",
    "version": 3
   },
   "file_extension": ".py",
   "mimetype": "text/x-python",
   "name": "python",
   "nbconvert_exporter": "python",
   "pygments_lexer": "ipython3",
   "version": "3.11.3"
  },
  "orig_nbformat": 4
 },
 "nbformat": 4,
 "nbformat_minor": 2
}
