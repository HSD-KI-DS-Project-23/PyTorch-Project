{
 "cells": [
  {
   "attachments": {},
   "cell_type": "markdown",
   "metadata": {},
   "source": [
    "# Libaries"
   ]
  },
  {
   "cell_type": "code",
   "execution_count": 89,
   "metadata": {},
   "outputs": [],
   "source": [
    "import torch\n",
    "import torch.nn as nn\n",
    "import torch.optim as optim\n",
    "import torchvision\n",
    "from torchvision import transforms, datasets\n",
    "from torch.autograd import Variable\n",
    "\n",
    "import matplotlib.pyplot as plt"
   ]
  },
  {
   "attachments": {},
   "cell_type": "markdown",
   "metadata": {},
   "source": [
    "# Hyperparameters"
   ]
  },
  {
   "cell_type": "code",
   "execution_count": null,
   "metadata": {},
   "outputs": [],
   "source": []
  },
  {
   "attachments": {},
   "cell_type": "markdown",
   "metadata": {},
   "source": [
    "# Load Data"
   ]
  },
  {
   "cell_type": "code",
   "execution_count": 90,
   "metadata": {},
   "outputs": [],
   "source": [
    "train_data = torch.utils.data.DataLoader(\n",
    "    datasets.MNIST('MNIST_Data', train=True, download=True,\n",
    "                   transform = transforms.ToTensor()))\n",
    "\n",
    "test_data = torch.utils.data.DataLoader(\n",
    "    datasets.MNIST('MNIST_Data', train=False,\n",
    "                   transform = transforms.ToTensor()))"
   ]
  },
  {
   "attachments": {},
   "cell_type": "markdown",
   "metadata": {},
   "source": [
    "# Model"
   ]
  },
  {
   "cell_type": "code",
   "execution_count": 91,
   "metadata": {},
   "outputs": [],
   "source": [
    "class MNIST_De_Class(nn.Module):\n",
    "    def __init__(self):\n",
    "        super(MNIST_De_Class, self).__init__()\n",
    "\n",
    "        self.model =nn.Sequential(\n",
    "            nn.Linear(28*28,20), #input\n",
    "            nn.LeakyReLU(0.2), \n",
    "            nn.Linear(20,20), #hidden1\n",
    "            nn.LeakyReLU(0.2),\n",
    "            nn.Linear(20,20), #hidden2\n",
    "            nn.LeakyReLU(0.2),\n",
    "            nn.Linear(20,10), #output\n",
    "            nn.Softmax()\n",
    "        )\n",
    "\n",
    "    def forward(self,x):\n",
    "        print(x)\n",
    "        return self.model(x)"
   ]
  },
  {
   "attachments": {},
   "cell_type": "markdown",
   "metadata": {},
   "source": [
    "# Train"
   ]
  },
  {
   "cell_type": "code",
   "execution_count": 92,
   "metadata": {},
   "outputs": [],
   "source": [
    "model1 = MNIST_De_Class()\n",
    "model1.cuda()\n",
    "\n",
    "#criterion / lf\n",
    "criterion = nn.BCELoss()\n",
    "\n",
    "#optimizer\n",
    "optimizer = optim.Adam(params=model1.parameters(),lr=0.0002)\n",
    "\n",
    "def train(epoch):\n",
    "    model1.train()\n",
    "    for batch_id, (data,target) in enumerate(train_data):\n",
    "        data = data.cuda()\n",
    "        target = target.cuda()\n",
    "\n",
    "        data = Variable(data)\n",
    "        target = Variable(target)\n",
    "\n",
    "        optimizer.zero_grad()\n",
    "\n",
    "        out = model1(data)\n",
    "\n",
    "        \n",
    "        loss = criterion(out,target)\n",
    "        loss.backward()\n",
    "\n",
    "        optimizer.step()\n",
    "\n",
    "        print('Epoche: ',epoch, 'Loss: %.5f ' % loss)"
   ]
  },
  {
   "attachments": {},
   "cell_type": "markdown",
   "metadata": {},
   "source": [
    "# Train Loop"
   ]
  },
  {
   "cell_type": "code",
   "execution_count": 93,
   "metadata": {},
   "outputs": [],
   "source": [
    "# for epoch in range(1,100):\n",
    "    "
   ]
  }
 ],
 "metadata": {
  "kernelspec": {
   "display_name": "Python 3",
   "language": "python",
   "name": "python3"
  },
  "language_info": {
   "codemirror_mode": {
    "name": "ipython",
    "version": 3
   },
   "file_extension": ".py",
   "mimetype": "text/x-python",
   "name": "python",
   "nbconvert_exporter": "python",
   "pygments_lexer": "ipython3",
   "version": "3.11.3"
  },
  "orig_nbformat": 4
 },
 "nbformat": 4,
 "nbformat_minor": 2
}
