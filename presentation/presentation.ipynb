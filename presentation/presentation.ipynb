{
 "cells": [
  {
   "attachments": {},
   "cell_type": "markdown",
   "metadata": {},
   "source": [
    "## Presentation"
   ]
  },
  {
   "cell_type": "code",
   "execution_count": null,
   "metadata": {},
   "outputs": [],
   "source": [
    "import sys\n",
    "sys.path.append('../src')\n",
    "import torch\n",
    "from torchvision import transforms\n",
    "from torchvision.utils import save_image\n",
    "\n",
    "# custom libraries\n",
    "from classes.autoencoder.autoencoderCNN import AutoEncoderCNN\n",
    "\n",
    "from utils.dataset import load_datasets\n",
    "\n",
    "device = torch.device('cuda' if torch.cuda.is_available() else 'cpu')"
   ]
  },
  {
   "cell_type": "code",
   "execution_count": null,
   "metadata": {},
   "outputs": [],
   "source": [
    "datasettype = \"MNIST\""
   ]
  },
  {
   "attachments": {},
   "cell_type": "markdown",
   "metadata": {},
   "source": [
    "#### Get Data"
   ]
  },
  {
   "cell_type": "code",
   "execution_count": null,
   "metadata": {},
   "outputs": [],
   "source": [
    "transform = transforms.Compose(\n",
    "    [\n",
    "        transforms.ToTensor(),\n",
    "        transforms.Normalize(\n",
    "            [0.5], [0.5]\n",
    "        )\n",
    "    ]\n",
    ")\n",
    "\n",
    "dataset_train, loader_train = load_datasets(datasettype,transform, batch_size=1)"
   ]
  },
  {
   "attachments": {},
   "cell_type": "markdown",
   "metadata": {},
   "source": [
    "#### Load models"
   ]
  },
  {
   "cell_type": "code",
   "execution_count": null,
   "metadata": {},
   "outputs": [],
   "source": [
    "AutoEncoder = AutoEncoderCNN(datasettype=datasettype).to(device)\n",
    "AutoEncoder = torch.load('autoencoder.pth')\n",
    "Decoder = AutoEncoder.encoder\n",
    "\n",
    "# TODO: import GAN\n",
    "\n",
    "# TODO: import Classification"
   ]
  },
  {
   "attachments": {},
   "cell_type": "markdown",
   "metadata": {},
   "source": [
    "#### Examples"
   ]
  },
  {
   "cell_type": "code",
   "execution_count": null,
   "metadata": {},
   "outputs": [],
   "source": [
    "data_iter = iter(loader_train)\n",
    "for epoch in range(1, 2):\n",
    "    batch = next(data_iter)\n",
    "\n",
    "    input, label = batch\n",
    "    encoded_image = Decoder(input)\n",
    "\n",
    "    save_image(input.view(input.size(0), 1, 28, 28), f'{epoch}.png')\n",
    "    \n",
    "    save_image(encoded_image.view(encoded_image.size(0), 1, 8, 16), f'{epoch}_encoded.png')"
   ]
  }
 ],
 "metadata": {
  "kernelspec": {
   "display_name": "Python 3",
   "language": "python",
   "name": "python3"
  },
  "language_info": {
   "codemirror_mode": {
    "name": "ipython",
    "version": 3
   },
   "file_extension": ".py",
   "mimetype": "text/x-python",
   "name": "python",
   "nbconvert_exporter": "python",
   "pygments_lexer": "ipython3",
   "version": "3.11.3"
  },
  "orig_nbformat": 4
 },
 "nbformat": 4,
 "nbformat_minor": 2
}
