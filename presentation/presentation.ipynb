{
 "cells": [
  {
   "attachments": {},
   "cell_type": "markdown",
   "metadata": {},
   "source": [
    "## Presentation\n",
    "\n",
    "Author: Leon Kleinschmidt"
   ]
  },
  {
   "cell_type": "code",
   "execution_count": null,
   "metadata": {},
   "outputs": [],
   "source": [
    "import sys\n",
    "sys.path.append('../src')\n",
    "import torch\n",
    "from torchvision import transforms\n",
    "from torchvision.utils import save_image\n",
    "\n",
    "# custom libraries\n",
    "from classes.autoencoder.autoencoderCNN import AutoEncoderCNN\n",
    "from classes.gan.gan import Generator\n",
    "from classes.imageclassification.classification import MNIST_Classification_Class\n",
    "\n",
    "from utils.dataset import load_datasets\n",
    "from utils.presentationPlot import presentation_plot\n",
    "\n",
    "device = torch.device('cuda' if torch.cuda.is_available() else 'cpu')"
   ]
  },
  {
   "cell_type": "code",
   "execution_count": null,
   "metadata": {},
   "outputs": [],
   "source": [
    "datasettype = \"MNIST\"\n",
    "\n",
    "batch_size = 1\n",
    "z_dim = 100"
   ]
  },
  {
   "attachments": {},
   "cell_type": "markdown",
   "metadata": {},
   "source": [
    "#### Get Data"
   ]
  },
  {
   "cell_type": "code",
   "execution_count": null,
   "metadata": {},
   "outputs": [],
   "source": [
    "transform = transforms.Compose(\n",
    "    [\n",
    "        transforms.ToTensor(),\n",
    "        transforms.Normalize(\n",
    "            [0.5], [0.5]\n",
    "        )\n",
    "    ]\n",
    ")\n",
    "\n",
    "dataset_train, loader_train = load_datasets(datasettype,transform, batch_size=batch_size)"
   ]
  },
  {
   "attachments": {},
   "cell_type": "markdown",
   "metadata": {},
   "source": [
    "#### Load models"
   ]
  },
  {
   "cell_type": "code",
   "execution_count": null,
   "metadata": {},
   "outputs": [],
   "source": [
    "AutoEncoder = AutoEncoderCNN(datasettype=datasettype).to(device)\n",
    "AutoEncoder = torch.load('autoencoder.pth', map_location=device)\n",
    "Encoder = AutoEncoder.encoder\n",
    "Decoder = AutoEncoder.decoder\n",
    "\n",
    "Gen = Generator(100, z_dim, 28 * 28)\n",
    "Gen.load_state_dict(torch.load(\"generator.pth\", map_location=device))\n",
    "\n",
    "Classificator = MNIST_Classification_Class(input_size= 8 * 4 * 4, hidden_dim=100).to(device)\n",
    "Classificator = torch.load('classificator.pth', map_location=device)"
   ]
  },
  {
   "attachments": {},
   "cell_type": "markdown",
   "metadata": {},
   "source": [
    "#### Examples"
   ]
  },
  {
   "cell_type": "code",
   "execution_count": null,
   "metadata": {},
   "outputs": [],
   "source": [
    "data_iter = iter(loader_train)\n",
    "for epoch in range(1, 2):\n",
    "    # real data\n",
    "    batch = next(data_iter)\n",
    "    input, label = batch\n",
    "    real_encoded = Encoder(input)\n",
    "    real_decoded = Decoder(real_encoded)\n",
    "\n",
    "    # fake picture\n",
    "    z = torch.randn(batch_size, z_dim).to(device)\n",
    "    fake_image = Gen(z)\n",
    "    fake_image = fake_image.view(fake_image.size(0), 1, 28, 28)\n",
    "    fake_encoded = Encoder(fake_image)\n",
    "    fake_decoded = Decoder(fake_encoded)\n",
    "    \n",
    "    # classify image (based on decoded data)\n",
    "    classification = Classificator(fake_encoded.view(fake_encoded.size(0), -1))\n",
    "    real_classification = Classificator(real_encoded.view(real_encoded.size(0), -1))\n",
    "    # print(classification)\n",
    "\n",
    "    presentation_plot(\"MINST Picture\",input, real_encoded.view(real_encoded.size(0), 1, 8, 16), real_decoded.view(real_decoded.size(0), 1, 28, 28), real_classification)\n",
    "    presentation_plot(\"GAN Generated Picture\",fake_image, fake_encoded.view(fake_encoded.size(0), 1, 8, 16), fake_decoded.view(fake_decoded.size(0), 1, 28, 28), classification)\n",
    "    # save_image(fake_image.view(fake_image.size(0), 1, 28, 28), f'{epoch}_gen.png')\n",
    "    # save_image(input.view(input.size(0), 1, 28, 28), f'{epoch}.png')\n",
    "    # save_image(fake_encoded.view(fake_encoded.size(0), 1, 8, 16), f'{epoch}_encoded.png')"
   ]
  }
 ],
 "metadata": {
  "kernelspec": {
   "display_name": "Python 3",
   "language": "python",
   "name": "python3"
  },
  "language_info": {
   "codemirror_mode": {
    "name": "ipython",
    "version": 3
   },
   "file_extension": ".py",
   "mimetype": "text/x-python",
   "name": "python",
   "nbconvert_exporter": "python",
   "pygments_lexer": "ipython3",
   "version": "3.11.3"
  },
  "orig_nbformat": 4
 },
 "nbformat": 4,
 "nbformat_minor": 2
}
