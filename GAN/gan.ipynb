{
 "cells": [
  {
   "attachments": {},
   "cell_type": "markdown",
   "metadata": {},
   "source": [
    "### Libraries"
   ]
  },
  {
   "cell_type": "code",
   "execution_count": 2,
   "metadata": {},
   "outputs": [],
   "source": [
    "import os\n",
    "import torch\n",
    "import torch.nn as nn\n",
    "import torch.nn.functional as F\n",
    "import torch.optim as optim\n",
    "from torchvision import datasets, transforms\n",
    "from torch.autograd import Variable\n",
    "from torchvision.utils import save_image\n",
    "\n",
    "# Device configuration\n",
    "device = torch.device('cuda' if torch.cuda.is_available() else 'cpu')"
   ]
  },
  {
   "attachments": {},
   "cell_type": "markdown",
   "metadata": {},
   "source": [
    "### Hyperparameters"
   ]
  },
  {
   "cell_type": "code",
   "execution_count": 6,
   "metadata": {},
   "outputs": [],
   "source": [
    "# learning rate\n",
    "lr = 0.0002\n",
    "\n",
    "# number of epochs\n",
    "num_epochs = 100\n",
    "batch_size = 25\n",
    "\n",
    "hidden_dim = 100"
   ]
  },
  {
   "attachments": {},
   "cell_type": "markdown",
   "metadata": {},
   "source": [
    "### Get Data"
   ]
  },
  {
   "cell_type": "code",
   "execution_count": 7,
   "metadata": {},
   "outputs": [],
   "source": [
    "transform = transforms.Compose(\n",
    "    [\n",
    "        transforms.ToTensor(),  # create PyTorch Tensor | shape: (channels, height, width)\n",
    "        transforms.Normalize(\n",
    "            [0.5], [0.5]\n",
    "        ),  # convert values to [-1, 1]\n",
    "    ]\n",
    ")\n",
    "\n",
    "# create folder structure if it does not exist\n",
    "folder_path = \"data\"\n",
    "if not os.path.exists(folder_path):\n",
    "    os.makedirs(folder_path)\n",
    "\n",
    "# create datasets\n",
    "dataset_train = datasets.MNIST(\n",
    "    root=folder_path, train=True, transform=transform, download=True\n",
    ")\n",
    "dataset_test = datasets.MNIST(\n",
    "    root=folder_path, train=False, transform=transform, download=False\n",
    ")\n",
    "\n",
    "# create dataloaders\n",
    "loader_train = torch.utils.data.DataLoader(\n",
    "    dataset=dataset_train, batch_size=batch_size, shuffle=True\n",
    ")\n",
    "loader_test = torch.utils.data.DataLoader(\n",
    "    dataset=dataset_test, batch_size=batch_size, shuffle=False\n",
    ")"
   ]
  },
  {
   "attachments": {},
   "cell_type": "markdown",
   "metadata": {},
   "source": [
    "### Generator"
   ]
  },
  {
   "cell_type": "code",
   "execution_count": 8,
   "metadata": {},
   "outputs": [],
   "source": [
    "class Generator(nn.Module):\n",
    "    def __init__(self, g_input_dim, g_hidden_dim, g_output_dim):\n",
    "        super(Generator, self).__init__()\n",
    "\n",
    "        self.model = nn.Sequential(\n",
    "            nn.Linear(g_input_dim, g_hidden_dim),\n",
    "            nn.LeakyReLU(0.2),\n",
    "            nn.Linear(g_hidden_dim, g_hidden_dim),\n",
    "            nn.LeakyReLU(0.2),\n",
    "            nn.Linear(g_hidden_dim, g_hidden_dim),\n",
    "            nn.LeakyReLU(0.2),\n",
    "            nn.Linear(g_hidden_dim, g_output_dim),\n",
    "            nn.Tanh()\n",
    "        )\n",
    "\n",
    "    def forward(self, x):\n",
    "        return self.model(x)"
   ]
  },
  {
   "attachments": {},
   "cell_type": "markdown",
   "metadata": {},
   "source": [
    "### Discriminator"
   ]
  },
  {
   "cell_type": "code",
   "execution_count": null,
   "metadata": {},
   "outputs": [],
   "source": [
    "class Discriminator(nn.Module):\n",
    "    def __init__(self, d_input_dim, d_hidden_dim):\n",
    "        super(Discriminator, self).__init__()\n",
    "\n",
    "        self.model = nn.Sequential(\n",
    "            nn.Linear(d_input_dim, d_hidden_dim),\n",
    "            nn.LeakyReLU(0.2),\n",
    "            nn.Linear(d_hidden_dim, d_hidden_dim),\n",
    "            nn.LeakyReLU(0.2),\n",
    "            nn.Linear(d_hidden_dim, d_hidden_dim),\n",
    "            nn.LeakyReLU(0.2),\n",
    "            nn.Linear(d_hidden_dim, 1),\n",
    "            nn.Sigmoid()\n",
    "        )\n",
    "\n",
    "    def forward(self, x):\n",
    "        return self.model(x)"
   ]
  }
 ],
 "metadata": {
  "kernelspec": {
   "display_name": "Python 3",
   "language": "python",
   "name": "python3"
  },
  "language_info": {
   "codemirror_mode": {
    "name": "ipython",
    "version": 3
   },
   "file_extension": ".py",
   "mimetype": "text/x-python",
   "name": "python",
   "nbconvert_exporter": "python",
   "pygments_lexer": "ipython3",
   "version": "3.11.3"
  },
  "orig_nbformat": 4
 },
 "nbformat": 4,
 "nbformat_minor": 2
}
