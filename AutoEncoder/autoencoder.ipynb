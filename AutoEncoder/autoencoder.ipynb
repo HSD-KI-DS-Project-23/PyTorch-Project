{
 "cells": [
  {
   "attachments": {},
   "cell_type": "markdown",
   "metadata": {},
   "source": [
    "### Libraries"
   ]
  },
  {
   "cell_type": "code",
   "execution_count": null,
   "metadata": {},
   "outputs": [],
   "source": [
    "import os\n",
    "import numpy as np\n",
    "import torch\n",
    "import torch.nn as nn\n",
    "from torchvision import datasets\n",
    "from torchvision import transforms\n",
    "import matplotlib.pyplot as plt\n",
    "import json\n",
    "\n",
    "# Device configuration\n",
    "device = torch.device('cuda' if torch.cuda.is_available() else 'cpu')"
   ]
  },
  {
   "attachments": {},
   "cell_type": "markdown",
   "metadata": {},
   "source": [
    "### Hyperparameter"
   ]
  },
  {
   "cell_type": "code",
   "execution_count": null,
   "metadata": {},
   "outputs": [],
   "source": [
    "num_epochs = 100\n",
    "batch_size = 25\n",
    "learning_rate = 1e-4\n",
    "continue_training = True"
   ]
  },
  {
   "attachments": {},
   "cell_type": "markdown",
   "metadata": {},
   "source": [
    "### Get Data"
   ]
  },
  {
   "cell_type": "code",
   "execution_count": null,
   "metadata": {},
   "outputs": [],
   "source": [
    "transform = transforms.Compose(\n",
    "    [\n",
    "        transforms.ToTensor(),\n",
    "        transforms.Normalize(\n",
    "            [0.5], [0.5]\n",
    "        )\n",
    "    ]\n",
    ")\n",
    "\n",
    "folder_path = \"../data/\"\n",
    "if not os.path.exists(folder_path):\n",
    "    os.makedirs(folder_path)\n",
    "\n",
    "dataset = datasets.MNIST(root=folder_path, train=True, download=True, transform=transform)\n",
    "loader = torch.utils.data.DataLoader(dataset=dataset, batch_size = batch_size, shuffle = True)"
   ]
  },
  {
   "attachments": {},
   "cell_type": "markdown",
   "metadata": {},
   "source": [
    "### Autoencoder"
   ]
  },
  {
   "cell_type": "code",
   "execution_count": null,
   "metadata": {},
   "outputs": [],
   "source": [
    "class AutoEncoder(nn.Module):\n",
    "    def __init__(self):\n",
    "        super().__init__()\n",
    "\n",
    "        self.encoder = nn.Sequential(\n",
    "            torch.nn.Linear(28 * 28, 128),\n",
    "            torch.nn.ReLU(),\n",
    "            torch.nn.Linear(128, 64),\n",
    "            torch.nn.ReLU(),\n",
    "            torch.nn.Linear(64, 36),\n",
    "            torch.nn.ReLU(),\n",
    "            torch.nn.Linear(36, 18),\n",
    "            torch.nn.ReLU(),\n",
    "            torch.nn.Linear(18, 9)\n",
    "        )\n",
    "        \n",
    "        self.decoder = nn.Sequential(\n",
    "            torch.nn.Linear(9, 18),\n",
    "            torch.nn.ReLU(),\n",
    "            torch.nn.Linear(18, 36),\n",
    "            torch.nn.ReLU(),\n",
    "            torch.nn.Linear(36, 64),\n",
    "            torch.nn.ReLU(),\n",
    "            torch.nn.Linear(64, 128),\n",
    "            torch.nn.ReLU(),\n",
    "            torch.nn.Linear(128, 28 * 28),\n",
    "            torch.nn.Sigmoid()\n",
    "        )\n",
    "\n",
    "    def forward(self, x):\n",
    "        encoded = self.encoder(x)\n",
    "        decoded = self.decoder(encoded)\n",
    "        return decoded"
   ]
  },
  {
   "attachments": {},
   "cell_type": "markdown",
   "metadata": {},
   "source": [
    "### Network"
   ]
  },
  {
   "cell_type": "code",
   "execution_count": null,
   "metadata": {},
   "outputs": [],
   "source": [
    "# data_dim = 1\n",
    "# # automatically calculate the dimension\n",
    "# for dimension in range(1, dataset.data.ndim):\n",
    "#     data_dim *= dataset.data.size(dimension)\n",
    "\n",
    "AE = AutoEncoder().to(device)\n",
    "lossFunction = nn.BCELoss()\n",
    "\n",
    "# Optimizers\n",
    "\n",
    "optimizer = torch.optim.Adam(AE.parameters(), lr=learning_rate, weight_decay= 1e-8)"
   ]
  },
  {
   "attachments": {},
   "cell_type": "markdown",
   "metadata": {},
   "source": [
    "### Model loading\n",
    "Load a previous model if ``continue_training`` is set to `True`"
   ]
  },
  {
   "cell_type": "code",
   "execution_count": null,
   "metadata": {},
   "outputs": [],
   "source": [
    "if continue_training:\n",
    "    AE = torch.load('complete.pth')"
   ]
  },
  {
   "attachments": {},
   "cell_type": "markdown",
   "metadata": {},
   "source": [
    "### Training"
   ]
  },
  {
   "cell_type": "code",
   "execution_count": null,
   "metadata": {},
   "outputs": [],
   "source": [
    "# create folder structure if it does not exist\n",
    "\n",
    "folder_path = \"output/\"\n",
    "if not os.path.exists(folder_path):\n",
    "    os.makedirs(folder_path)\n",
    "\n",
    "\n",
    "start_epoch = 1  # import epoch ?\n",
    "total_epochs_completed = 0\n",
    "\n",
    "if continue_training:\n",
    "    with open('metadata.json', 'r') as f:\n",
    "        metadata = json.load(f)\n",
    "        total_epochs_completed = metadata['total_epochs']\n",
    "\n",
    "        start_epoch = total_epochs_completed + 1\n",
    "\n",
    "end_epoch = start_epoch + num_epochs\n",
    "outputs = []\n",
    "for epoch in range(start_epoch, end_epoch + 1):\n",
    "    total_epochs_completed += 1\n",
    "    losses = []\n",
    "    for image, _ in loader:\n",
    "        # take image from loader an flatten it\n",
    "        image = image.reshape(-1, 28 * 28).to(device)\n",
    "\n",
    "        # pass (flattened) image through autoencoder\n",
    "        reconstructed = AE(image)\n",
    "\n",
    "        # evaluate loss by comparing reconstructed image with actual image\n",
    "        loss = lossFunction(reconstructed, image)\n",
    "\n",
    "        optimizer.zero_grad()\n",
    "        loss.backward()\n",
    "        optimizer.step()\n",
    "\n",
    "        losses.append(loss)\n",
    "    outputs.append((epoch, losses[-1]))\n",
    "\n",
    "    if epoch % 10 == 0:\n",
    "        # Show input and reconstructed images side by side\n",
    "        fig, axes = plt.subplots(nrows=1, ncols=2, figsize=(8, 4))\n",
    "        axes[0].imshow(image[0].reshape(28, 28).to(\"cpu\"), cmap=\"gray\")\n",
    "        axes[0].axis(\"off\")\n",
    "        axes[0].set_title(\"Input Image\")\n",
    "        axes[1].imshow(\n",
    "            reconstructed[0].detach().to(\"cpu\").numpy().reshape(28, 28), cmap=\"gray\"\n",
    "        )\n",
    "        axes[1].axis(\"off\")\n",
    "        axes[1].set_title(\"Reconstructed Image\")\n",
    "        plt.tight_layout()\n",
    "        plt.savefig(os.path.join(folder_path, f\"epoch_{epoch}.png\"))  # Save the figure\n",
    "        plt.show()\n",
    "        plt.close()\n",
    "\n",
    "# Save the total_epochs to a JSON file\n",
    "with open('metadata.json', 'w') as f:\n",
    "    json.dump({'total_epochs': total_epochs_completed}, f)"
   ]
  },
  {
   "attachments": {},
   "cell_type": "markdown",
   "metadata": {},
   "source": [
    "### Save model"
   ]
  },
  {
   "cell_type": "code",
   "execution_count": null,
   "metadata": {},
   "outputs": [],
   "source": [
    "torch.save(AE, 'complete.pth')"
   ]
  },
  {
   "attachments": {},
   "cell_type": "markdown",
   "metadata": {},
   "source": [
    "### Evaluation"
   ]
  },
  {
   "cell_type": "code",
   "execution_count": null,
   "metadata": {},
   "outputs": [],
   "source": [
    "if evaluate:\n",
    "    AE = torch.load('complete.pth')\n",
    "\n",
    "    dataset_test = datasets.MNIST(\n",
    "        root='../data', train=False, transform=transform, download=False\n",
    "    )\n",
    "\n",
    "    loader_test = torch.utils.data.DataLoader(\n",
    "        dataset=dataset_test, batch_size=batch_size, shuffle=False\n",
    "    )\n",
    "\n",
    "    # create folder structure if it does not exist\n",
    "\n",
    "    folder_path = \"output/eval\"\n",
    "    if not os.path.exists(folder_path):\n",
    "        os.makedirs(folder_path)\n",
    "\n",
    "\n",
    "    with torch.no_grad():\n",
    "        for batch_idx, (image, _) in enumerate(loader_test):\n",
    "            # take image from loader an flatten it\n",
    "            image = image.reshape(-1, 28 * 28).to(device)\n",
    "\n",
    "            # pass (flattened) image through autoencoder\n",
    "            reconstructed = AE(image)\n",
    "\n",
    "            # evaluate loss by comparing reconstructed image with actual image\n",
    "            loss = lossFunction(reconstructed, image)\n",
    "\n",
    "            # Show input and reconstructed images side by side\n",
    "            if batch_idx % 1000:\n",
    "                fig, axes = plt.subplots(nrows=1, ncols=2, figsize=(8, 4))\n",
    "                axes[0].imshow(image[0].reshape(28, 28).to(\"cpu\"), cmap=\"gray\")\n",
    "                axes[0].axis(\"off\")\n",
    "                axes[0].set_title(\"Input Image\")\n",
    "                axes[1].imshow(\n",
    "                    reconstructed[0].detach().to(\"cpu\").numpy().reshape(28, 28), cmap=\"gray\"\n",
    "                )\n",
    "                axes[1].axis(\"off\")\n",
    "                axes[1].set_title(\"Reconstructed Image\")\n",
    "                plt.tight_layout()\n",
    "                plt.savefig(os.path.join(folder_path, f\"test_{batch_idx}.png\"))  # Save the figure\n",
    "                plt.show()\n",
    "                plt.close()\n"
   ]
  }
 ],
 "metadata": {
  "kernelspec": {
   "display_name": "Python 3",
   "language": "python",
   "name": "python3"
  },
  "language_info": {
   "codemirror_mode": {
    "name": "ipython",
    "version": 3
   },
   "file_extension": ".py",
   "mimetype": "text/x-python",
   "name": "python",
   "nbconvert_exporter": "python",
   "pygments_lexer": "ipython3",
   "version": "3.11.3"
  },
  "orig_nbformat": 4
 },
 "nbformat": 4,
 "nbformat_minor": 2
}
